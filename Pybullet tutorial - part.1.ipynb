{
 "cells": [
  {
   "cell_type": "markdown",
   "metadata": {},
   "source": [
    "# Pybullet tutorial - Part. 1\n",
    "by SeoYoung Son\n",
    "##### Reference\n",
    "* <a href = \"https://m.blog.naver.com/PostView.nhnblogId=einsbon&logNo=221294095704&proxyReferer=https%3A%2F%2Fwww.google.com%2F\">네이버 블로그: 미래 가젯 연구소</a>\n",
    "* <a href = \"https://docs.google.com/document/d/10sXEhzFRSnvFcl3XxNGhnD4N2SedqwdAvK3dsihxVUA/edit#heading=h.2ye70wns7io3\">Pybullet Quickstart Guide</a>\n",
    "* <a href = \"https://medium.com/@gerardmaggiolino/creating-openai-gym-environments-with-pybullet-part-1-13895a622b24\">Creating OpenAI Gym Environments with Pybullet</a>\n",
    "* <a href = \"http://wiki.ros.org/urdf/Tutorials\">URDF tutorials</a>"
   ]
  },
  {
   "cell_type": "markdown",
   "metadata": {},
   "source": [
    "#### 이번 시간 학습 목표:\n",
    "* Pybullet에 대해 간단히 알아보는 시간을 갖는다\n",
    "* ROS에 들어가는 모델인 URDF를 작성해본다.   \n",
    "\n",
    "본 문서는 SAI 스터디용 자료이므로 허락없이 퍼가시는 것을 금합니다"
   ]
  },
  {
   "cell_type": "markdown",
   "metadata": {},
   "source": [
    "## Getting started..\n",
    "이 문서는 어느 정도의 파이썬 지식과 기초적인 딥러닝 지식을 보유한 사람들을 위해 작성하였습니다.  \n",
    "아래 준비물들을 준비하심 좋을 것 같습니다.  \n",
    "* Pycharm (2018.02 이상)\n",
    "* Python 3.7 ver.\n",
    "* Notepad++ 혹은 VisualCode\n",
    "\n",
    "cmd 및 터미널을 열어서 아래 모듈들을 설치해주세요!\n",
    "```cmd\n",
    "pip install pybullet\n",
    "pip install tensorflow         //필요하면 설치\n",
    "pip install baselines          //현재 tensorflow2.0이 반영이 안되어 RL의 deepQ 기능 사용 불가\n",
    "```"
   ]
  },
  {
   "cell_type": "markdown",
   "metadata": {},
   "source": [
    "이제 준비를 모두 다 끝마치셨다면 아래 코드를 복사해서 잘 돌아가는지 확인해봅시다.  \n",
    "각 코드가 무엇을 의미하는지 차근차근 설명해드리겠습니다."
   ]
  },
  {
   "cell_type": "code",
   "execution_count": 2,
   "metadata": {},
   "outputs": [
    {
     "ename": "ModuleNotFoundError",
     "evalue": "No module named 'pybullet'",
     "output_type": "error",
     "traceback": [
      "\u001b[1;31m---------------------------------------------------------------------------\u001b[0m",
      "\u001b[1;31mModuleNotFoundError\u001b[0m                       Traceback (most recent call last)",
      "\u001b[1;32m<ipython-input-2-db46a4308e02>\u001b[0m in \u001b[0;36m<module>\u001b[1;34m\u001b[0m\n\u001b[1;32m----> 1\u001b[1;33m \u001b[1;32mimport\u001b[0m \u001b[0mpybullet\u001b[0m \u001b[1;32mas\u001b[0m \u001b[0mp\u001b[0m\u001b[1;33m\u001b[0m\u001b[1;33m\u001b[0m\u001b[0m\n\u001b[0m\u001b[0;32m      2\u001b[0m \u001b[1;32mimport\u001b[0m \u001b[0mtime\u001b[0m\u001b[1;33m\u001b[0m\u001b[1;33m\u001b[0m\u001b[0m\n\u001b[0;32m      3\u001b[0m \u001b[1;32mimport\u001b[0m \u001b[0mpybullet_data\u001b[0m\u001b[1;33m\u001b[0m\u001b[1;33m\u001b[0m\u001b[0m\n",
      "\u001b[1;31mModuleNotFoundError\u001b[0m: No module named 'pybullet'"
     ]
    }
   ],
   "source": [
    "import pybullet as p\n",
    "import time\n",
    "import pybullet_data"
   ]
  },
  {
   "cell_type": "code",
   "execution_count": null,
   "metadata": {},
   "outputs": [],
   "source": [
    "physicsClient = p.connect(p.GUI)\n",
    "p.setAdditionalSearchPath(pybullet_data.getDataPath())\n",
    "p.setGravity(0, 0, -9.8)\n",
    "p.setTimeStep(1/200)\n",
    "\n",
    "planeID = p.loadURDF(\"plane.urdf\")\n",
    "cubeStartPos = [2, -1, 1]\n",
    "cubeStartOrientation = p.getQuaternionFromEuler([0, 0, 3.14])\n",
    "robotID = p.loadURDF(\"r2d2.urdf\", cubeStartPos, cubeStartOrientation)\n",
    "\n",
    "for i in range(10000):\n",
    "    p.stepSimulation()\n",
    "    time.sleep(1 / 200)\n",
    "p.disconnect(physicsClient)"
   ]
  },
  {
   "cell_type": "markdown",
   "metadata": {},
   "source": []
  },
  {
   "cell_type": "markdown",
   "metadata": {},
   "source": [
    "* ```p.connect(p.GUI)```: 화면에 출력하게 연결하는 함수입니다. p.GUI 대신 p.DIRECT를 넣으면 시뮬레이션이 화면으로 출력되지 않습니다.\n",
    "* ```p.setAdditionalSearchPath()```: 모델의 경로를 불러옵니다.\n",
    "* ```p.setGravity(0,0,-9,8)```: 중력 설정, 보통 (0,0,-9.8) 내지는 (0,0,-10)으로 설정합니다\n",
    "* ```p.setTimeStep(1/200)```: time = time + delta_time이라고 했을 대 delta_time이라고 생각하심될 것 같습니다.\n",
    "* ```p.loadURDF(\"URDF_PATH\", position, orientation)```: urdf을 불러오고 initial position과 orientation을 지정합니다."
   ]
  },
  {
   "cell_type": "markdown",
   "metadata": {},
   "source": [
    "위 코드를 실행하여 로봇이 나왔다면 설치에 성공하신 겁니다!"
   ]
  },
  {
   "cell_type": "markdown",
   "metadata": {},
   "source": [
    "## URDF 작성법"
   ]
  },
  {
   "cell_type": "markdown",
   "metadata": {},
   "source": [
    "이번에는 URDF 작성하는 방법에 대해 알아보겠습니다.  \n",
    "URDF는 Unified Robotic Description Format 의 약어로 ROS에 사용되는 xml 파일 포맷입니다.  \n",
    "이외 Pybullet에서는 SDF와 같은 기타 포맷도 사용되지만 이번 시간에는 URDF에 대해서만 간략하게 알아보겠습니다. "
   ]
  },
  {
   "cell_type": "markdown",
   "metadata": {},
   "source": [
    "간단한 자동차를 손으로 직접 짜보는 시간을 가질 것입니다.  \n",
    "Notepad++을 켜서 아래 코드를 보시면서 차근차근 따라하시면 될 것 같습니다."
   ]
  },
  {
   "cell_type": "markdown",
   "metadata": {},
   "source": [
    "### 가장 기본 Frame 만들기 "
   ]
  },
  {
   "cell_type": "markdown",
   "metadata": {},
   "source": [
    "URDF의 구조는 아래 이미지와 같습니다.\n",
    "<img src=\"./urdf_structure.png\" width=\"300\" height=\"300\">\n",
    "</br></br>\n",
    "\n",
    "기본적으로 **link**와 **link** 태그 사이 **joint**를 넣는 방식입니다.  \n",
    "**link** 하위 태그로는 크게 \n",
    "1. 모니터에서 보이는 부분을 담당하는 **visual**,  \n",
    "2. Boundary box의 역할을 하는 **collision**\n",
    "3. 물리적 속성을 담당하는 **inertial**\n",
    "크게 세 가지로 나뉩니다. 각각의 태그들에서도 또다른 태그들이 존재하지만,  \n",
    "일단은 이렇게 알아두고 아래 코드를 보면서 넘어갑시다..!"
   ]
  },
  {
   "cell_type": "markdown",
   "metadata": {},
   "source": [
    "```xml\n",
    "<?xml version=\"1.0\"?> \n",
    "<robot name=\"simplecar\">         //로봇 아이디이자 이름을 정합니다. 웬만해선 urdf파일명과 동일하게 해주세요!\n",
    "    <!-- Base Frame of Car --> \n",
    "    <link name=\"base_link\">      //로봇의 부분인 link 입니다. ID가 base_link 입니다.\n",
    "        <visual>                 //시각적인 부분을 담당하는 부분입니다. \n",
    "            <geometry>           //상자를 만들기 위해 geometry 태그를 적어줍시다.\n",
    "                <box size=\"0.5 0.3 0.1\"/>  //x = 0.5 y = 0.3 z = 0.1 크기만큼 지정해줍니다\n",
    "            </geometry>          //항상 태그는 \"/\" 형태로 끝맺음합니다\n",
    "        </visual> \n",
    "    </link>\n",
    "</robot>                 \n",
    "```"
   ]
  },
  {
   "cell_type": "markdown",
   "metadata": {},
   "source": [
    "※ 편의상 주석을 //라고 했습니다. xml의 주석은 ```<!-- -->```와 같습니다!"
   ]
  },
  {
   "cell_type": "markdown",
   "metadata": {},
   "source": [
    "geometry 하위 태그로 여러가지가 존재합니다.\n",
    "<a href = \"http://wiki.ros.org/urdf/XML/link\">사이트</a>에 방문하셔서 더 자세한 것들을 확인할 수 있습니다.  \n",
    "```<mesh filename = \"car.obj\" scale=\"0.1 0.1 0.1\"/>``` 와 같이 3D 오브젝트 파일을 urdf로 가공해서 만들어낼 수도 있습니다."
   ]
  },
  {
   "cell_type": "markdown",
   "metadata": {},
   "source": [
    "#### 💻연습 코딩\n",
    "차의 몸통을 만들었으니, 차 바퀴 네 부분을 다음 요구 사항에 맞추어 만들어봅시다..!\n",
    "\n",
    "##### Left Back Wheel\n",
    "* link name: left_back_wheel\n",
    "* geometry: 원기둥이고 길이는 0.05, 반지름은 0.1입니다.\n",
    "\n",
    "##### Right Back Wheel\n",
    "* link name: right_back_wheel\n",
    "* geometry: 원기둥이고 길이는 0.05, 반지름은 0.1입니다."
   ]
  },
  {
   "cell_type": "markdown",
   "metadata": {},
   "source": [
    "### Joint: link와 link 사이 연결하기"
   ]
  },
  {
   "cell_type": "markdown",
   "metadata": {},
   "source": [
    "위에서 만들었던 바퀴들의 inertial을 origin rpy = \"1.57075 1.57075 0\" 으로 설정해주세요.  \n",
    "origin은 위 그림에서 보신 것과 같이 joint 할 위치라고 생각하면 편할 것 같습니다.  "
   ]
  },
  {
   "cell_type": "markdown",
   "metadata": {},
   "source": [
    "```xml\n",
    "<?xml version=\"1.0\"?>\n",
    "<robot name=\"simplecar\">\n",
    "    <!-- Base Frame of Car -->\n",
    "    <link name=\"base_link\">\n",
    "        <visual>\n",
    "            <geometry>\n",
    "                <box size=\"0.5 0.3 0.1\"/>\n",
    "            </geometry>\n",
    "        </visual>\n",
    "    </link>\n",
    "\n",
    "    <!-- Left Back Wheel -->\n",
    "    <link name=\"left_back_wheel\">\n",
    "        <visual>\n",
    "            <geometry>\n",
    "                <cylinder length=\"0.05\" radius=\"0.1\"/>\n",
    "            </geometry>\n",
    "            <origin rpy=\"1.57075 1.57075 0\"/>\n",
    "        </visual>\n",
    "    </link>\n",
    "\n",
    "    <joint name=\"base_to_left_back_wheel\" type=\"continuous\">\n",
    "        <parent link=\"base_link\"/>\n",
    "        <child link=\"left_back_wheel\"/>\n",
    "        <axis xyz=\"0 1 0\"/>\n",
    "        <origin xyz=\"-0.2 0.175 0\"/>\n",
    "    </joint>\n",
    "</robot>\n",
    "```"
   ]
  },
  {
   "cell_type": "markdown",
   "metadata": {},
   "source": [
    "#### 💻 연습코딩\n",
    "오른쪽 바퀴와 마찬가지로 적용해봅시다.\n",
    "\n",
    "##### Right Back Wheel\n",
    "* Joint name: base_to_right_back_wheel\n",
    "* Joint type: continuous\n",
    "* link origin rpy=\"-1.57075 -1.57075 0\"\n",
    "* axis: 왼쪽 뒷바퀴와 동일\n",
    "* origin xyz=\"-0.2 -0.175 0\""
   ]
  },
  {
   "cell_type": "markdown",
   "metadata": {},
   "source": [
    "#### Material을 이용하여 색 입히기"
   ]
  },
  {
   "cell_type": "markdown",
   "metadata": {},
   "source": [
    "이제는 각 geometry의 색을 입힐 것입니다. visual 하위 태그로, material id를 미리 설정하여 id로 간단하게 색을 넣을 수 있습니다.  \n",
    "```texture name ... ``` 형태로 mtl 파일을 넣을 수도 있습니다."
   ]
  },
  {
   "cell_type": "markdown",
   "metadata": {},
   "source": [
    "``` xml\n",
    "<?xml version=\"1.0\"?>\n",
    "<robot name=\"simplecar\">\n",
    "    <material name=\"blue\">\n",
    "        <color rgba=\"0.6 0.7 0.8 0.7\"/>\n",
    "    </material>\n",
    "\n",
    "    <!-- Base Frame of Car -->\n",
    "    <link name=\"base_link\">\n",
    "        <visual>\n",
    "            <geometry>\n",
    "                <box size=\"0.5 0.3 0.1\"/>\n",
    "            </geometry>\n",
    "            <material name=\"blue\"/>\n",
    "        </visual>\n",
    "    </link>\n",
    "    ...\n",
    "</robot>\n",
    "```"
   ]
  },
  {
   "cell_type": "markdown",
   "metadata": {},
   "source": [
    "#### 💻 연습코딩\n",
    "모든 바퀴에 색깔을 입혀봅시다.\n",
    "\n",
    "##### All Wheels\n",
    "먼저 material name을 black으로 설정합니다. rgba 순서대로 0 0 0 1으로 설정하고 바퀴의 visual 태그 하위로 material을 설정합니다."
   ]
  },
  {
   "cell_type": "markdown",
   "metadata": {},
   "source": [
    "#### Physical attribute 적용하기"
   ]
  },
  {
   "cell_type": "markdown",
   "metadata": {},
   "source": [
    "collision 부분은 위에서 언급되었듯, collosion box를 설정하게 하는 태그입니다.   \n",
    "link의 하위 태그로 보통 geometry와 같게 설정됩니다.  \n",
    "Inertial 부분은 건너 뛰겠습니다..!! (무게 설정하는 것만 확인..!)"
   ]
  },
  {
   "cell_type": "markdown",
   "metadata": {},
   "source": [
    "```xml\n",
    "<!-- Left Front Wheel -->\n",
    "\n",
    "<link name=\"left_front_wheel\">\n",
    "    <visual>\n",
    "        <geometry>\n",
    "            <cylinder length=\"0.05\" radius=\"0.1\"/>\n",
    "        </geometry>\n",
    "        <origin rpy=\"1.57075 1.57075 0\"/>\n",
    "        <material name=\"black\"/>\n",
    "    </visual>\n",
    "\n",
    "    <collision>\n",
    "         <geometry>\n",
    "            <cylinder length=\"0.05\" radius=\"0.1\"/>\n",
    "        </geometry>\n",
    "        <origin rpy=\"1.57075 1.57075 0\"/>\n",
    "    </collision>\n",
    "\n",
    "    <inertial>\n",
    "        <origin rpy=\"1.57075 1.57075 0\"/>\n",
    "        <mass value=\"0.3\"/>\n",
    "        <inertia ixx=\"0.4\" ixy=\"0\" ixz=\"0\" iyy=\"0.4\" iyz=\"0.0\" izz=\"0.2\"/>\n",
    "    </inertial>\n",
    "</link>\n",
    "```"
   ]
  },
  {
   "cell_type": "markdown",
   "metadata": {},
   "source": [
    "### 자동차 움직여보기"
   ]
  },
  {
   "cell_type": "code",
   "execution_count": 2,
   "metadata": {},
   "outputs": [],
   "source": [
    "import pybullet as p\n",
    "import pybullet_data\n",
    "import pathlib as path"
   ]
  },
  {
   "cell_type": "code",
   "execution_count": null,
   "metadata": {},
   "outputs": [],
   "source": [
    "client = p.connect(p.GUI)       #connection for visualization\n",
    "                                #p.DIRECT: non-visual\n",
    "\n",
    "p.setGravity(0,0,-10)\n",
    "p.setAdditionalSearchPath(pybullet_data.getDataPath())"
   ]
  },
  {
   "cell_type": "code",
   "execution_count": null,
   "metadata": {},
   "outputs": [],
   "source": [
    "angle =p.addUserDebugParameter(\"Steering\",-0.5,0.5,0)\n",
    "throttle = p.addUserDebugParameter(\"Throttle\",0,20,0)"
   ]
  },
  {
   "cell_type": "code",
   "execution_count": null,
   "metadata": {},
   "outputs": [],
   "source": [
    "# pybullet_data: urdf files\n",
    "planeId = p.loadURDF(\"plane.urdf\")\n",
    "carPath = \"D:\\\\GitHub\\\\Curling_technician\\\\pybullet_test\\\\model\\\\\"\n",
    "carId = p.loadURDF(carPath +\"simplecar.urdf\",basePosition=[0,0,0.2])\n",
    "number_of_joints=p.getNumJoints(carId)"
   ]
  },
  {
   "cell_type": "code",
   "execution_count": null,
   "metadata": {},
   "outputs": [],
   "source": [
    "wheel_indices = [1,3,4,5]\n",
    "hinge_indicies = [0,2]"
   ]
  },
  {
   "cell_type": "code",
   "execution_count": null,
   "metadata": {},
   "outputs": [],
   "source": [
    "while True:\n",
    "    user_angle = p.readUserDebugParameter(angle)\n",
    "    user_throttle = p.readUserDebugParameter(throttle)\n",
    "    for joint_index in wheel_indices:\n",
    "        p.setJointMotorControl2(carId, joint_index,\n",
    "                                p.VELOCITY_CONTROL,\n",
    "                                targetVelocity=user_throttle)\n",
    "\n",
    "    for joint_index in hinge_indicies:\n",
    "        p.setJointMotorControl2(carId, joint_index,\n",
    "                                p.POSITION_CONTROL,\n",
    "                                targetPosition=user_angle)\n",
    "\n",
    "    p.stepSimulation()\n",
    "\n",
    "#for _ in range(number_of_joints):\n",
    "#    info = p.getJointInfo(carId, _)\n",
    "#    position, orientation = p.getBasePositionAndOrientation(carId)\n",
    "#    p.applyExternalForce(carId,0,[50,0,0],position,p.WORLD_FRAME)\n",
    "#    p.stepSimulation()\n",
    "#    print(info[0],\":\",info[1])"
   ]
  },
  {
   "cell_type": "markdown",
   "metadata": {},
   "source": [
    "<center><em>For more information visit:</em></center>  \n",
    "\n",
    "[![GitHub](http://img.shields.io/badge/-Tech%20blog-black?style=flat-square&logo=github&link=https://github.com/ameliacode)](https://github.com/ameliacode)"
   ]
  }
 ],
 "metadata": {
  "kernelspec": {
   "display_name": "Python 3",
   "language": "python",
   "name": "python3"
  },
  "language_info": {
   "codemirror_mode": {
    "name": "ipython",
    "version": 3
   },
   "file_extension": ".py",
   "mimetype": "text/x-python",
   "name": "python",
   "nbconvert_exporter": "python",
   "pygments_lexer": "ipython3",
   "version": "3.7.8"
  }
 },
 "nbformat": 4,
 "nbformat_minor": 4
}
