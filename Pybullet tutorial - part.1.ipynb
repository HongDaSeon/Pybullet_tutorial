{
 "cells": [
  {
   "cell_type": "markdown",
   "metadata": {},
   "source": [
    "## Pybullet tutorial\n",
    "by SeoYoung Son\n",
    "##### Reference\n",
    "* <a href = \"https://m.blog.naver.com/PostView.nhnblogId=einsbon&logNo=221294095704&proxyReferer=https%3A%2F%2Fwww.google.com%2F\">네이버 블로그: 미래 가젯 연구소</a>\n",
    "* <a href = \"https://docs.google.com/document/d/10sXEhzFRSnvFcl3XxNGhnD4N2SedqwdAvK3dsihxVUA/edit#heading=h.2ye70wns7io3\">Pybullet Quickstart Guide</a>\n",
    "* <a href = \"https://medium.com/@gerardmaggiolino/creating-openai-gym-environments-with-pybullet-part-1-13895a622b24\">Creating OpenAI Gym Environments with Pybullet</a>\n",
    "* <a href = \"http://wiki.ros.org/urdf/Tutorials\">URDF tutorials</a>"
   ]
  },
  {
   "cell_type": "markdown",
   "metadata": {},
   "source": [
    "#### 이번 시간 학습 목표:\n",
    "* Pybullet에 대해 간단히 알아보는 시간을 갖는다\n",
    "* ROS에 들어가는 모델인 URDF를 작성해본다.   \n",
    "\n",
    "본 문서는 SAI 스터디용 자료이므로 허락없이 퍼가시는 것을 금합니다"
   ]
  },
  {
   "cell_type": "markdown",
   "metadata": {},
   "source": [
    "### Getting started..\n",
    "이 문서는 어느 정도의 파이썬 지식과 기초적인 딥러닝 지식을 보유한 사람들을 위해 작성하였습니다.  \n",
    "아래 준비물들을 준비하심 좋을 것 같습니다.  \n",
    "* Pycharm (2018.02 이상)\n",
    "* Python 3.7 ver.\n",
    "* Notepad++ 혹은 VisualCode\n",
    "\n",
    "cmd 및 터미널을 열어서 아래 모듈들을 설치해주세요!\n",
    "```cmd\n",
    "pip install pybullet\n",
    "pip install tensorflow         //필요하면 설치\n",
    "pip install baselines          //현재 tensorflow2.0이 반영이 안되어 RL의 deepQ 기능 사용 불가\n",
    "```"
   ]
  },
  {
   "cell_type": "markdown",
   "metadata": {},
   "source": [
    "이제 준비를 모두 다 끝마치셨다면 아래 코드를 복사해서 잘 돌아가는지 확인해봅시다.  \n",
    "각 코드가 무엇을 의미하는지 차근차근 설명해드리겠습니다."
   ]
  },
  {
   "cell_type": "code",
   "execution_count": 2,
   "metadata": {},
   "outputs": [],
   "source": [
    "import pybullet as p\n",
    "import time\n",
    "import pybullet_data"
   ]
  },
  {
   "cell_type": "code",
   "execution_count": null,
   "metadata": {},
   "outputs": [],
   "source": [
    "physicsClient = p.connect(p.GUI)\n",
    "p.setAdditionalSearchPath(pybullet_data.getDataPath())\n",
    "p.setGravity(0, 0, -9.8)\n",
    "p.setTimeStep(1/200)\n",
    "\n",
    "planeID = p.loadURDF(\"plane.urdf\")\n",
    "cubeStartPos = [2, -1, 1]\n",
    "cubeStartOrientation = p.getQuaternionFromEuler([0, 0, 3.14])\n",
    "robotID = p.loadURDF(\"r2d2.urdf\", cubeStartPos, cubeStartOrientation)\n",
    "\n",
    "for i in range(10000):\n",
    "    p.stepSimulation()\n",
    "    time.sleep(1 / 200)\n",
    "p.disconnect(physicsClient)"
   ]
  },
  {
   "cell_type": "markdown",
   "metadata": {},
   "source": []
  },
  {
   "cell_type": "code",
   "execution_count": null,
   "metadata": {},
   "outputs": [],
   "source": []
  },
  {
   "cell_type": "code",
   "execution_count": null,
   "metadata": {},
   "outputs": [],
   "source": []
  },
  {
   "cell_type": "code",
   "execution_count": null,
   "metadata": {},
   "outputs": [],
   "source": []
  },
  {
   "cell_type": "code",
   "execution_count": null,
   "metadata": {},
   "outputs": [],
   "source": []
  },
  {
   "cell_type": "markdown",
   "metadata": {},
   "source": [
    "### URDF 작성법"
   ]
  },
  {
   "cell_type": "markdown",
   "metadata": {},
   "source": [
    "이번에는 URDF 작성하는 방법에 대해 알아보겠습니다.  \n",
    "URDF는 Unified Robotic Description Format 의 약어로 ROS에 사용되는 xml 파일 포맷입니다.  \n",
    "이외 Pybullet에서는 SDF와 같은 기타 포맷도 사용되지만 이번 시간에는 URDF에 대해서만 간략하게 알아보겠습니다. "
   ]
  },
  {
   "cell_type": "markdown",
   "metadata": {},
   "source": [
    "간단한 로봇 팔을 손으로 직접 짜보는 시간을 가질 것입니다."
   ]
  },
  {
   "cell_type": "code",
   "execution_count": null,
   "metadata": {},
   "outputs": [],
   "source": []
  },
  {
   "cell_type": "code",
   "execution_count": null,
   "metadata": {},
   "outputs": [],
   "source": []
  },
  {
   "cell_type": "code",
   "execution_count": null,
   "metadata": {},
   "outputs": [],
   "source": []
  },
  {
   "cell_type": "code",
   "execution_count": null,
   "metadata": {},
   "outputs": [],
   "source": []
  },
  {
   "cell_type": "markdown",
   "metadata": {},
   "source": [
    "<center><em>For more information visit:</em></center>  \n",
    "\n",
    "[![GitHub](http://img.shields.io/badge/-Tech%20blog-black?style=flat-square&logo=github&link=https://github.com/ameliacode)](https://github.com/ameliacode)"
   ]
  }
 ],
 "metadata": {
  "kernelspec": {
   "display_name": "Python 3",
   "language": "python",
   "name": "python3"
  },
  "language_info": {
   "codemirror_mode": {
    "name": "ipython",
    "version": 3
   },
   "file_extension": ".py",
   "mimetype": "text/x-python",
   "name": "python",
   "nbconvert_exporter": "python",
   "pygments_lexer": "ipython3",
   "version": "3.8.3"
  }
 },
 "nbformat": 4,
 "nbformat_minor": 4
}
